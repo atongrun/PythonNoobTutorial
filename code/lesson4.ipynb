{
 "cells": [
  {
   "cell_type": "code",
   "execution_count": 7,
   "metadata": {},
   "outputs": [
    {
     "name": "stdout",
     "output_type": "stream",
     "text": [
      "['Michael', 'Bob', 'Tracy']\n",
      "3\n",
      "Michael\n",
      "Bob\n",
      "Tracy\n",
      "Tracy\n",
      "Bob\n",
      "Michael\n"
     ]
    }
   ],
   "source": [
    "classmates = ['Michael', 'Bob', 'Tracy']\n",
    "print(classmates)\n",
    "print(len(classmates))\n",
    "\n",
    "print(classmates[0])\n",
    "print(classmates[1])\n",
    "print(classmates[2])\n",
    "# print(classmates[3])\n",
    "\n",
    "# python list倒着索引\n",
    "print(classmates[-1])\n",
    "print(classmates[-2])\n",
    "print(classmates[-3])\n"
   ]
  },
  {
   "cell_type": "code",
   "execution_count": 16,
   "metadata": {},
   "outputs": [
    {
     "name": "stdout",
     "output_type": "stream",
     "text": [
      "['Michael', 'Bob', 'Tracy']\n",
      "['Bob', 'Tracy']\n"
     ]
    }
   ],
   "source": [
    "arr = ['Michael', 'Bob', 'Tracy']\n",
    "print(arr)\n",
    "# arr.append('Jerry')\n",
    "# print(arr)\n",
    "\n",
    "# arr.append('D')\n",
    "# print(arr)\n",
    "\n",
    "# arr.insert(1,'F')\n",
    "# print(arr)\n",
    "\n",
    "\n",
    "# arr.pop()\n",
    "# print(arr)\n",
    "\n",
    "# arr.pop()\n",
    "# print(arr)\n",
    "\n",
    "arr.pop(0)\n",
    "print(arr)\n"
   ]
  },
  {
   "cell_type": "code",
   "execution_count": 17,
   "metadata": {},
   "outputs": [
    {
     "name": "stdout",
     "output_type": "stream",
     "text": [
      "['Michael', 'Bob', 'Tracy']\n",
      "['F', 'G', 'Z']\n"
     ]
    }
   ],
   "source": [
    "arr = ['Michael', 'Bob', 'Tracy']\n",
    "print(arr)\n",
    "\n",
    "arr[0]='F'\n",
    "arr[1]='G'\n",
    "arr[2]='Z'\n",
    "print(arr)"
   ]
  },
  {
   "cell_type": "code",
   "execution_count": 26,
   "metadata": {},
   "outputs": [
    {
     "name": "stdout",
     "output_type": "stream",
     "text": [
      "['python', 'java', ['asp', 'php'], 'scheme']\n",
      "4\n",
      "['asp', 'php']\n",
      "['python', 'java', ['asp', 'c++'], 'scheme']\n",
      "['python', 'java', ['carbon', 'php'], 'scheme']\n"
     ]
    }
   ],
   "source": [
    "s = ['python', 'java', ['asp', 'php'], 'scheme']\n",
    "print(s)\n",
    "print(len(s))\n",
    "\n",
    "print(s[2])\n",
    "s[2][1]='c++'\n",
    "print(s)\n",
    "\n",
    "# 理解起来容易\n",
    "pp = ['asp', 'php']\n",
    "ss = ['python', 'java', pp, 'scheme']\n",
    "ss[2][0]='carbon'\n",
    "print(ss)\n"
   ]
  },
  {
   "attachments": {},
   "cell_type": "markdown",
   "metadata": {},
   "source": [
    "上边是list的用法"
   ]
  },
  {
   "cell_type": "code",
   "execution_count": 29,
   "metadata": {},
   "outputs": [
    {
     "name": "stdout",
     "output_type": "stream",
     "text": [
      "Michael\n"
     ]
    },
    {
     "ename": "TypeError",
     "evalue": "'tuple' object does not support item assignment",
     "output_type": "error",
     "traceback": [
      "\u001b[1;31m---------------------------------------------------------------------------\u001b[0m",
      "\u001b[1;31mTypeError\u001b[0m                                 Traceback (most recent call last)",
      "\u001b[1;32m~\\AppData\\Local\\Temp\\ipykernel_16680\\337202888.py\u001b[0m in \u001b[0;36m<module>\u001b[1;34m\u001b[0m\n\u001b[0;32m      2\u001b[0m \u001b[0mprint\u001b[0m\u001b[1;33m(\u001b[0m\u001b[0mclassmates\u001b[0m\u001b[1;33m[\u001b[0m\u001b[1;36m0\u001b[0m\u001b[1;33m]\u001b[0m\u001b[1;33m)\u001b[0m\u001b[1;33m\u001b[0m\u001b[0m\n\u001b[0;32m      3\u001b[0m \u001b[1;33m\u001b[0m\u001b[0m\n\u001b[1;32m----> 4\u001b[1;33m \u001b[0mclassmates\u001b[0m\u001b[1;33m[\u001b[0m\u001b[1;36m0\u001b[0m\u001b[1;33m]\u001b[0m\u001b[1;33m=\u001b[0m\u001b[1;34m'C'\u001b[0m\u001b[1;33m\u001b[0m\u001b[0m\n\u001b[0m",
      "\u001b[1;31mTypeError\u001b[0m: 'tuple' object does not support item assignment"
     ]
    }
   ],
   "source": [
    "classmates = ('Michael', 'Bob', 'Tracy')\n",
    "print(classmates[0])\n",
    "\n",
    "classmates[0]='C'"
   ]
  },
  {
   "cell_type": "code",
   "execution_count": 31,
   "metadata": {},
   "outputs": [],
   "source": [
    "t = (1)\n",
    "tt=(1,)"
   ]
  },
  {
   "cell_type": "code",
   "execution_count": 33,
   "metadata": {},
   "outputs": [
    {
     "ename": "TypeError",
     "evalue": "'tuple' object does not support item assignment",
     "output_type": "error",
     "traceback": [
      "\u001b[1;31m---------------------------------------------------------------------------\u001b[0m",
      "\u001b[1;31mTypeError\u001b[0m                                 Traceback (most recent call last)",
      "\u001b[1;32m~\\AppData\\Local\\Temp\\ipykernel_16680\\993154142.py\u001b[0m in \u001b[0;36m<module>\u001b[1;34m\u001b[0m\n\u001b[0;32m      6\u001b[0m \u001b[1;33m\u001b[0m\u001b[0m\n\u001b[0;32m      7\u001b[0m \u001b[0mp\u001b[0m\u001b[1;33m=\u001b[0m\u001b[1;33m[\u001b[0m\u001b[1;34m'X'\u001b[0m\u001b[1;33m,\u001b[0m \u001b[1;34m'Y'\u001b[0m\u001b[1;33m]\u001b[0m\u001b[1;33m\u001b[0m\u001b[0m\n\u001b[1;32m----> 8\u001b[1;33m \u001b[0mt\u001b[0m\u001b[1;33m[\u001b[0m\u001b[1;36m2\u001b[0m\u001b[1;33m]\u001b[0m\u001b[1;33m=\u001b[0m\u001b[0mp\u001b[0m\u001b[1;33m\u001b[0m\u001b[0m\n\u001b[0m",
      "\u001b[1;31mTypeError\u001b[0m: 'tuple' object does not support item assignment"
     ]
    }
   ],
   "source": [
    "t = ('a', 'b', ['A', 'B'])\n",
    "# t[2][0] = 'X'\n",
    "# t[2][1] = 'Y'\n",
    "# print(t)\n",
    "\n",
    "\n",
    "p=['X', 'Y']\n",
    "t[2]=p\n"
   ]
  },
  {
   "cell_type": "code",
   "execution_count": 36,
   "metadata": {},
   "outputs": [
    {
     "name": "stdout",
     "output_type": "stream",
     "text": [
      "Apple\n",
      "Python\n",
      "Lisa\n"
     ]
    }
   ],
   "source": [
    "L = [\n",
    "    ['Apple', 'Google', 'Microsoft'],\n",
    "    ['Java', 'Python', 'Ruby', 'PHP'],\n",
    "    ['Adam', 'Bart', 'Lisa']\n",
    "]\n",
    "print(L[0][0])\n",
    "print(L[1][1])\n",
    "print(L[2][2])\n"
   ]
  }
 ],
 "metadata": {
  "kernelspec": {
   "display_name": "tong",
   "language": "python",
   "name": "python3"
  },
  "language_info": {
   "codemirror_mode": {
    "name": "ipython",
    "version": 3
   },
   "file_extension": ".py",
   "mimetype": "text/x-python",
   "name": "python",
   "nbconvert_exporter": "python",
   "pygments_lexer": "ipython3",
   "version": "3.7.0 (default, Jun 28 2018, 08:04:48) [MSC v.1912 64 bit (AMD64)]"
  },
  "orig_nbformat": 4,
  "vscode": {
   "interpreter": {
    "hash": "32474d7be6c9af993187cdff2ab6b6280d7d8401c7fcf94f51aece57f9de44b6"
   }
  }
 },
 "nbformat": 4,
 "nbformat_minor": 2
}
